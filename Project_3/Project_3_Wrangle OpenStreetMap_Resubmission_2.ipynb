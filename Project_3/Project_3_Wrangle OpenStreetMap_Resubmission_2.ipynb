{
 "cells": [
  {
   "cell_type": "markdown",
   "metadata": {},
   "source": [
    "#### Project 3: Wrangle OpenStreetMap Data\n",
    "The dataset that I chose to analyze for this project was Denver, CO, and I chose to use the SQL method to query the data. I am originally from Colorado so I was interested to research the Denver dataset and explore new information that I did not know before about Denver. I initially downloaded the XML file from the Openstreetmap website. The file size that was downloaded was extremely large and would take several hours to cleanse and analyze, so I utilized the code titled \"create_sample_size\" within the folder to generate a \"sample\" file so that the file size became around 54 MB. The smaller file size was much easier to capture a \"small\" picutre of the data and get a well rounded idea as to the set up of the dataset, find any discrepancies, and perform additional queries to explore the area."
   ]
  },
  {
   "cell_type": "markdown",
   "metadata": {
    "collapsed": true
   },
   "source": [
    "##### Parse Data\n",
    "Once I had created a smaller sample size of the downloaded Openstreetmap data, I utilized the code titled \"parse\" wihin the folder to parse the map data within the sample.osm file which produced a count of the tags and ways that were found in the sample data file. The code resulted in the count of 137,589 tags and 27,514 ways."
   ]
  },
  {
   "cell_type": "markdown",
   "metadata": {},
   "source": [
    "##### Problems encountered with the OpenStreet Map\n",
    "Once I had the sample dataset available, it was then time to start auditing the data to see which areas will be focused on before the dataset is prepared for the SQL database. I utilized the code titled \"audit\" within the folder to audit the sample dataset."
   ]
  },
  {
   "cell_type": "markdown",
   "metadata": {},
   "source": [
    "##### Street Abbreviations Audit\n",
    "I used the code titled \"audit\" wihin the folder to audit the street names that were included in the sample file. I then listed out the street names that were listed in the sample file to get an idea as to which abbreviations were included in the dataset. I was then able to target those abbreviations when the file was being prepared for the SQL database to ensure those abbreviations were updated. The update_street_names code was processed when the data was being cleansed and prepared for the dataset in the code titled \"prepare_for_database\" within the folder. The abbreviated street names were updated to reflect the full street names. I quried the data utilizing the query titled \"qry_street_format.sql\" after the data was cleansed to confirm that the street names were updated. Below is the query that I utilized as well as a few rows of data that were returned."
   ]
  },
  {
   "cell_type": "code",
   "execution_count": null,
   "metadata": {
    "collapsed": true
   },
   "outputs": [],
   "source": [
    "South Broadway\n",
    "South Garrison Street\n",
    "South Holly Street\n",
    "Potomac Street\n",
    "Jamaica Street\n",
    "South Logan Street\n",
    "Alpine Avenue"
   ]
  },
  {
   "cell_type": "markdown",
   "metadata": {},
   "source": [
    "##### Counties Audit\n",
    "I utilized to audit the query titled \"qry_counties_audit.sql\" to audit the county names that were included in the sample file. I then set a condition on the \"key\" field to only return the values where the \"key\" field was equalled to \"county\". Within the query results, I found that there were county names included into the osm file that are not in the Denver Metropolitan area. I found within the top 10 counties that both Clear Creek, CO and Gilpin, CO appeared collectively 188 times; however Gilpin County is located north of Broomfield, which is located top of the northern Denver Metropolitan area and Clear Creek County is located in the mountains, west of the Denver Metropolitan Area. "
   ]
  },
  {
   "cell_type": "code",
   "execution_count": null,
   "metadata": {
    "collapsed": true
   },
   "outputs": [],
   "source": [
    "Jefferson, CO                         1018\n",
    "Arapahoe, CO                           925\n",
    "Adams, CO                              764\n",
    "Boulder, CO                            638\n",
    "Denver, CO                             614\n",
    "Douglas, CO                            431\n",
    "Weld, CO                               239\n",
    "Broomfield, CO                         139\n",
    "Clear Creek, CO                        129\n",
    "Gilpin, CO                              59"
   ]
  },
  {
   "cell_type": "markdown",
   "metadata": {},
   "source": [
    "##### Cities Audit\n",
    "I queried the dataset utilizing the query titled \"qry_cities_audit.sql\" with a condition of the key being equalled to 'city' within the nodes_tags file that was created from the preparing for the database code below. When I audited the top cities that appeared within the dataset, I found that Idaho Springs appeared within the top cities, however Idaho Springs is located in Clear Creek County, which is located west of the Denver Metropolitan area. This analysis explains why Clear Creek County appeared in the top 10 counties within the dataset."
   ]
  },
  {
   "cell_type": "code",
   "execution_count": null,
   "metadata": {
    "collapsed": true
   },
   "outputs": [],
   "source": [
    "Denver             192\n",
    "Aurora              32\n",
    "Boulder             26\n",
    "Broomfield          22\n",
    "Parker              13\n",
    "Lakewood            13\n",
    "Northglenn          12\n",
    "Centennial           9\n",
    "Idaho Springs        9\n",
    "Golden               5\n",
    "Keenesburg           5"
   ]
  },
  {
   "cell_type": "markdown",
   "metadata": {},
   "source": [
    "##### Phone Numbers Audit\n",
    "During my audit of the data, I found that there were several formats of phone number sincluded. I decided to include a standardized format when the data was being prepared for the SQL database so that there was a standardized version throughout the cleansed data. The piece of code that updated the phone numbers to a standardized format can be found in the \"prepare_for_database\" code located within the folder. The format was then standardised to +1 xxx xxx xxxx. I included a query below that reflects the updated phone numbers format. I included a few of the phone numbers that resulted from the query to reflect the updated format."
   ]
  },
  {
   "cell_type": "code",
   "execution_count": null,
   "metadata": {
    "collapsed": true
   },
   "outputs": [],
   "source": [
    "sqlite> SELECT value \n",
    "FROM nodes_tags \n",
    "WHERE key = 'phone'; "
   ]
  },
  {
   "cell_type": "code",
   "execution_count": null,
   "metadata": {
    "collapsed": true
   },
   "outputs": [],
   "source": [
    "+1 303 543 0886\n",
    "+1 303 982 8220\n",
    "+1 303 759 2076\n",
    "+1 303 695 2600\n",
    "+1 303 722 6861\n",
    "+1 303 755 4483"
   ]
  },
  {
   "cell_type": "markdown",
   "metadata": {},
   "source": [
    "##### Preparing the file for the SQL Database\n",
    "My next step was to prepare the Sample Data Set to be imported into the SQL Database. I had to import the cerebus package into the Python environment before the code titled \"prepare_for_database\" could be processed. The code titled \"schema\" also had to be loaded into the environment in order for the code titled \"prepare_for_database\" could be ran. The code titled \"prepare_for_database\" was then utilized to prepare the sample dataset for the SQL database by cleansing the data to update the abbreviated street names as well as create a standardized format of the phone numbers and then it creates four separate .csv files that will be utilized to create SQL queries from."
   ]
  },
  {
   "cell_type": "markdown",
   "metadata": {},
   "source": [
    "##### Data Overview Utilizing SQL Commands\n",
    "My next step in the analysis was to find how many Unqiue Users were included within the Sample Data Set, who the top 10 users who contributed to the Sample Data Set, as well as how many users have only contributed to the dataset once."
   ]
  },
  {
   "cell_type": "markdown",
   "metadata": {},
   "source": [
    "##### File Size"
   ]
  },
  {
   "cell_type": "code",
   "execution_count": null,
   "metadata": {
    "collapsed": true
   },
   "outputs": [],
   "source": [
    "denver_colorado.osm  797.529 MB\n",
    "sample.osm            53.889 MB\n",
    "ways.csv               1.672 MB\n",
    "nodes.csv             20.801 MB\n",
    "ways_nodes.csv         6.992 MB\n",
    "ways_tags.csv          4.015 MB\n",
    "nodes_tags.csv           .68 MB"
   ]
  },
  {
   "cell_type": "markdown",
   "metadata": {},
   "source": [
    "##### Count of Nodes:"
   ]
  },
  {
   "cell_type": "code",
   "execution_count": null,
   "metadata": {
    "collapsed": true
   },
   "outputs": [],
   "source": [
    "sqlite> SELECT \n",
    "COUNT(*)\n",
    "FROM nodes;"
   ]
  },
  {
   "cell_type": "markdown",
   "metadata": {},
   "source": [
    "491280"
   ]
  },
  {
   "cell_type": "markdown",
   "metadata": {},
   "source": [
    "##### Count of Ways:"
   ]
  },
  {
   "cell_type": "code",
   "execution_count": null,
   "metadata": {
    "collapsed": true
   },
   "outputs": [],
   "source": [
    "sqlite> SELECT \n",
    "COUNT(*)\n",
    "FROM ways;"
   ]
  },
  {
   "cell_type": "markdown",
   "metadata": {},
   "source": [
    "27514"
   ]
  },
  {
   "cell_type": "markdown",
   "metadata": {},
   "source": [
    "##### Count of Unique Users:\n",
    "I utilized the query titled \"qry_unique_users_count.sql\" to find the number of unique users who contributed to the dataset and found that there 1,223 unique users."
   ]
  },
  {
   "cell_type": "markdown",
   "metadata": {},
   "source": [
    "##### Top 10 Contributing Users\n",
    "I utilized the query titled \"qry_top_10_users.sql\" to find the top 10 contributing users. The query results reflect that the user wtih the most contributions within the sample data was \"Your Village Maps\" and had 45,179 total contributions."
   ]
  },
  {
   "cell_type": "code",
   "execution_count": null,
   "metadata": {
    "collapsed": true
   },
   "outputs": [],
   "source": [
    "Your Village Maps   45179\n",
    "chachafish          36584\n",
    "woodpeck_fixbot     23182\n",
    "GPS_dr              21728\n",
    "jjyach              14980\n",
    "DavidJDBA           12649\n",
    "Stevestr            11516\n",
    "russdeffner         8376\n",
    "Berjoh              5704\n",
    "CornCO              5367"
   ]
  },
  {
   "cell_type": "markdown",
   "metadata": {},
   "source": [
    "##### Amount of Users with only 1 Contribution\n",
    "I utilized the query titled \"qry_users_1_contribution.sql\" and found the query results reflect that there were 302 users who only contributed to the dataset once."
   ]
  },
  {
   "cell_type": "markdown",
   "metadata": {},
   "source": [
    "##### Additional Analysis\n",
    "My next step to further explore the dataset to find information about the area that included the most popular cuisines, restaurants, fast food restaurants, as well as the most popular religion of the area by utilizing the below SQL queries."
   ]
  },
  {
   "cell_type": "markdown",
   "metadata": {},
   "source": [
    "##### Top 10 Cuisines\n",
    "I utilized the query titled \"qry_top_10_cuisines.sql\" within the folder to find the top 10 cuisines within the dataset. I was not surprised to learn that sandwiches and mexican cuisines were the most frequent within the sample dataset. From my prior experience of living in the Denver area, I would see several Jimmy John's, Wich Wich's, Subways, as well as Mexican restaurants within Dever so the results of the below SQL query confirmed the most popular cuisines."
   ]
  },
  {
   "cell_type": "markdown",
   "metadata": {},
   "source": [
    "* sandwich     15\n",
    "* mexican      12\n",
    "* burger       12\n",
    "* pizza        12\n",
    "* coffee_shop   8\n",
    "* asian         5\n",
    "* american      5\n",
    "* sushi         4\n",
    "* ice_cream     4\n",
    "* steak_house   3"
   ]
  },
  {
   "cell_type": "markdown",
   "metadata": {},
   "source": [
    "##### Top 10 Amenities\n",
    "The next query that I utilized titled \"qry_top_10_amenities.sql\" within the folder for the dataset was to see what the top 10 amenities were included withiin the sample dataset. I was pleased to see that bicycle parking was the second most popular amenity for the sample data set. Both road cycling and mountain biking are very popular in Denver and Boulder so the query results of the bicycle parking being the second most popular amenity do match with the physical acitivies within the area."
   ]
  },
  {
   "cell_type": "code",
   "execution_count": null,
   "metadata": {
    "collapsed": true
   },
   "outputs": [],
   "source": [
    "restaurant                 94\n",
    "bicycle_parking            52\n",
    "school                     50\n",
    "bench                      48\n",
    "fast_food                  41\n",
    "fuel                       36\n",
    "place_of_worship           35\n",
    "parking                    33\n",
    "cafe                       31\n",
    "toilets                    21"
   ]
  },
  {
   "cell_type": "markdown",
   "metadata": {},
   "source": [
    "##### Top 10 Restaurants\n",
    "I then utilized the query titled \"qry_top_10_restaurants.sql\" to find the top 10 restaurants within the dataset and found that Chipotle and Jimmy Johns were the most popular restaurants within the area. These results correlate back to the two most popular cuisines within the dataset, sandwiches and mexican. I was also not surprised to see Chipotle in the top 10 restaurants as they started in Denver, CO."
   ]
  },
  {
   "cell_type": "code",
   "execution_count": null,
   "metadata": {
    "collapsed": true
   },
   "outputs": [],
   "source": [
    "Chipotle                      2\n",
    "Jimmy Johns                   2\n",
    "Five Guys Burgers             1\n",
    "Fogo de Chao                  1\n",
    "Garbanzo Mediterranean Grill  1\n",
    "Graze                         1\n",
    "G s Bar & Grill               1\n",
    "Hog Heaven BBQ                1\n",
    "Hopdoddy Burger Bar           1\n",
    "Illegal Petes Co              1"
   ]
  },
  {
   "cell_type": "markdown",
   "metadata": {},
   "source": [
    "##### Top 5 Fast Food Restaurants\n",
    "The next part that I wanted to explore within the dataset were the top 5 restaurants that were classified as \"fast food\" within the data. The query that I utilized \"qry_top_5_fast_food_restaurants.sql\" results again matched the most popular cuisine of sandwiches. I also expected to see Taco Bell included in the SQL results as mexican was the second most popular cuisine within the dataset. Another interesting thing I found within the query results was the name \"Dairy Queen Brazier\" appeared. I searched \"Dairy Queen Brazier\" and found that it was originated back in 1957 to signify the restaurant having an \"open charcoal grill\". The name was later phased out in 1993 and in the early 2000s, the signage was updated to include \"Grill\" within the name to signify that those restaurants were similar to the Brazier restaurants."
   ]
  },
  {
   "cell_type": "code",
   "execution_count": null,
   "metadata": {
    "collapsed": true
   },
   "outputs": [],
   "source": [
    "Subway                5\n",
    "Burger King           3\n",
    "Taco Bell             3\n",
    "Papa Johns            2\n",
    "Dairy Queen Brazier   1"
   ]
  },
  {
   "cell_type": "markdown",
   "metadata": {},
   "source": [
    "##### Top Religion\n",
    "My last query that I performed on the data was titled to \"qry_top_religion.sql\" and was to find what the most popular religion of the sample dataset was. I wasn't surprised to see that Christian was the most popular. I researched the most popular religion of Denver and found that of the 53% of people who live in the Denver Area, 29% identify as \"Catholic\", which is a branch of the Christian religion."
   ]
  },
  {
   "cell_type": "markdown",
   "metadata": {},
   "source": [
    "##### Conclusion\n",
    "One improvement that I noticed is to update the titles of the map area that is being captured. I do think that if the map title was updated to \"Denver and Boulder, CO and Surrounding Areas\", it would help alleviate confusion while querying the data that other areas outside the Metropolitan area are also being included. While I was auditing the data, I was finding cities and counties were included in the OSM file that were not located in the Dever Metropolitan area, such as Cleark Creek County, which is located about 20 miles to the west of Denver. This will be beneifical to truly identify anomalies within the data.\n",
    "Another imporvement that I found while working with this dataset is that I noticed while I was querying the data that some bike paths were included, however I think that connecting the Openstreet Map data to an app such as Strava could expand even more on the bikepaths as road cycling and mountain biking are very prominent activies in the area. I think being able to connect the Openstreetmap to another app so that missing pieces of data that might exist in either the Openstreetmap source or the app can be filled in as well as ensure the data is staying up to date as some areas of the map might be updated more frequently than others. The last imporvement that I found is to standardize the allowed data input format when contributors input their data so there is a less likely chance of errors occurring. There could also be a script that cleanses the data more frequently so that abbreviations and phone number formats are remaining consistent. This improvement would help alleviate the data from becoming muddled and allow for more time to analyze the data. "
   ]
  }
 ],
 "metadata": {
  "kernelspec": {
   "display_name": "Python 2",
   "language": "python",
   "name": "python2"
  },
  "language_info": {
   "codemirror_mode": {
    "name": "ipython",
    "version": 2
   },
   "file_extension": ".py",
   "mimetype": "text/x-python",
   "name": "python",
   "nbconvert_exporter": "python",
   "pygments_lexer": "ipython2",
   "version": "2.7.11"
  }
 },
 "nbformat": 4,
 "nbformat_minor": 0
}
