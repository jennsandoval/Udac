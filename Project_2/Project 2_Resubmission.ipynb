{
 "cells": [
  {
   "cell_type": "markdown",
   "metadata": {},
   "source": [
    "### Project 2 - Titantic Dataset Analysis\n",
    "\n",
    "The dataset that I used for this project was the Titantic Data set. The questions that I posed were to understand what three factors had the highest impact on the chance of survival for the passengers. I focused my analysis on the gender of the passenger to understand if one gender had a higher likelihood of surviving versus the other, the class of ticket that was purchased, as well as the age of the passengers to understand if there was a possible children first policy in loading of the lifeboats from the sinking Titanic. \n",
    "\n",
    "I hypothesize for the dataset below, females and children had a higher likelihood of survival as there could have potentially been a women and children first on the lifeboats before males. I also hypothesize that the first class ticketholders, regardless of their gender, will have the highest likelihood of survival.\n",
    "\n",
    "My steps to analyzing the data are described below. "
   ]
  },
  {
   "cell_type": "code",
   "execution_count": 116,
   "metadata": {
    "collapsed": false,
    "scrolled": true
   },
   "outputs": [
    {
     "name": "stdout",
     "output_type": "stream",
     "text": [
      "   PassengerId  Survived  Pclass  \\\n",
      "0            1         0       3   \n",
      "1            2         1       1   \n",
      "2            3         1       3   \n",
      "3            4         1       1   \n",
      "4            5         0       3   \n",
      "\n",
      "                                                Name     Sex  Age  SibSp  \\\n",
      "0                            Braund, Mr. Owen Harris    male   22      1   \n",
      "1  Cumings, Mrs. John Bradley (Florence Briggs Th...  female   38      1   \n",
      "2                             Heikkinen, Miss. Laina  female   26      0   \n",
      "3       Futrelle, Mrs. Jacques Heath (Lily May Peel)  female   35      1   \n",
      "4                           Allen, Mr. William Henry    male   35      0   \n",
      "\n",
      "   Parch            Ticket     Fare Cabin Embarked  \n",
      "0      0         A/5 21171   7.2500   NaN        S  \n",
      "1      0          PC 17599  71.2833   C85        C  \n",
      "2      0  STON/O2. 3101282   7.9250   NaN        S  \n",
      "3      0            113803  53.1000  C123        S  \n",
      "4      0            373450   8.0500   NaN        S  \n"
     ]
    }
   ],
   "source": [
    "#Importing the data into the notebook\n",
    "\n",
    "import pandas as pd\n",
    "\n",
    "df = pd.read_csv(\"titanic_data.csv\")\n",
    "\n",
    "print df.head()"
   ]
  },
  {
   "cell_type": "markdown",
   "metadata": {},
   "source": [
    "The dataset is separated by each passenger being its own row. To gain a better understanding of the amount of passengers within the analysis, I ran a count rows and return 891 passengers, regardless if they survived or not."
   ]
  },
  {
   "cell_type": "code",
   "execution_count": 117,
   "metadata": {
    "collapsed": false,
    "scrolled": false
   },
   "outputs": [
    {
     "data": {
      "text/plain": [
       "891"
      ]
     },
     "execution_count": 117,
     "metadata": {},
     "output_type": "execute_result"
    }
   ],
   "source": [
    "#Amount of passengers within the dataset\n",
    "\n",
    "len(df)"
   ]
  },
  {
   "cell_type": "markdown",
   "metadata": {
    "collapsed": true
   },
   "source": [
    "### Data Cleansing\n",
    "\n",
    "The data is then cleansed, meaning that we do not require the passengers' names, ticket, fare, and embarcation point. I will keep the following columns as they will be a part of my analysis: the Passenger ID, Survied (0 = not survived, 1 = survived), Pclass (Class of Ticket the passenger purchased), Sex (gender of the passenger), Age (there are some passengers with unknown ages and that will be discussed below), Sib Sp (the number of siblings/spouses the passenger had on board with them), Parch (the number of parents/children the passengers had on board with them), as well as the Cabin the passenger stayed in if known."
   ]
  },
  {
   "cell_type": "code",
   "execution_count": 118,
   "metadata": {
    "collapsed": false,
    "scrolled": true
   },
   "outputs": [
    {
     "data": {
      "text/html": [
       "<div>\n",
       "<table border=\"1\" class=\"dataframe\">\n",
       "  <thead>\n",
       "    <tr style=\"text-align: right;\">\n",
       "      <th></th>\n",
       "      <th>PassengerId</th>\n",
       "      <th>Survived</th>\n",
       "      <th>Pclass</th>\n",
       "      <th>Sex</th>\n",
       "      <th>Age</th>\n",
       "      <th>SibSp</th>\n",
       "      <th>Parch</th>\n",
       "      <th>Cabin</th>\n",
       "    </tr>\n",
       "  </thead>\n",
       "  <tbody>\n",
       "    <tr>\n",
       "      <th>0</th>\n",
       "      <td>1</td>\n",
       "      <td>0</td>\n",
       "      <td>3</td>\n",
       "      <td>male</td>\n",
       "      <td>22</td>\n",
       "      <td>1</td>\n",
       "      <td>0</td>\n",
       "      <td>NaN</td>\n",
       "    </tr>\n",
       "    <tr>\n",
       "      <th>1</th>\n",
       "      <td>2</td>\n",
       "      <td>1</td>\n",
       "      <td>1</td>\n",
       "      <td>female</td>\n",
       "      <td>38</td>\n",
       "      <td>1</td>\n",
       "      <td>0</td>\n",
       "      <td>C85</td>\n",
       "    </tr>\n",
       "    <tr>\n",
       "      <th>2</th>\n",
       "      <td>3</td>\n",
       "      <td>1</td>\n",
       "      <td>3</td>\n",
       "      <td>female</td>\n",
       "      <td>26</td>\n",
       "      <td>0</td>\n",
       "      <td>0</td>\n",
       "      <td>NaN</td>\n",
       "    </tr>\n",
       "  </tbody>\n",
       "</table>\n",
       "</div>"
      ],
      "text/plain": [
       "   PassengerId  Survived  Pclass     Sex  Age  SibSp  Parch Cabin\n",
       "0            1         0       3    male   22      1      0   NaN\n",
       "1            2         1       1  female   38      1      0   C85\n",
       "2            3         1       3  female   26      0      0   NaN"
      ]
     },
     "execution_count": 118,
     "metadata": {},
     "output_type": "execute_result"
    }
   ],
   "source": [
    "#Cleansing Data to remove unnecessary columns not needed for Analysis\n",
    "\n",
    "df = df.drop(['Name', 'Ticket', 'Fare', 'Embarked'], axis = 1)\n",
    "df.head(3)"
   ]
  },
  {
   "cell_type": "markdown",
   "metadata": {
    "collapsed": true
   },
   "source": [
    "### Data Wrangling\n",
    "\n",
    "The data needs to be checked for any null values in the columns to get a better understanding if all columns contain data. All of the columns except for the Age column contain some type of data that is not equal to null. The age column contains 177 null values so when we perform an analysis on the passengers' ages, those 177 null values will need to be removed from the dataset. Knowing that there are null values contained in the age column, the analysis can only be 80% confident in the results of passengers' ages and whether they played a factor in passengers surviving. "
   ]
  },
  {
   "cell_type": "code",
   "execution_count": 125,
   "metadata": {
    "collapsed": false
   },
   "outputs": [
    {
     "data": {
      "text/plain": [
       "0"
      ]
     },
     "execution_count": 125,
     "metadata": {},
     "output_type": "execute_result"
    }
   ],
   "source": [
    "#Analyzing if there are null values in the Pclass column\n",
    "\n",
    "df['Pclass'].isnull().sum()"
   ]
  },
  {
   "cell_type": "code",
   "execution_count": 126,
   "metadata": {
    "collapsed": false,
    "scrolled": true
   },
   "outputs": [
    {
     "data": {
      "text/plain": [
       "0"
      ]
     },
     "execution_count": 126,
     "metadata": {},
     "output_type": "execute_result"
    }
   ],
   "source": [
    "#Analyzing if there are null values in the Sex column\n",
    "\n",
    "df['Sex'].isnull().sum()"
   ]
  },
  {
   "cell_type": "code",
   "execution_count": 128,
   "metadata": {
    "collapsed": false,
    "scrolled": true
   },
   "outputs": [
    {
     "data": {
      "text/plain": [
       "177"
      ]
     },
     "execution_count": 128,
     "metadata": {},
     "output_type": "execute_result"
    }
   ],
   "source": [
    "#Analyzing if there are null values in the Age column\n",
    "\n",
    "df['Age'].isnull().sum()"
   ]
  },
  {
   "cell_type": "code",
   "execution_count": 129,
   "metadata": {
    "collapsed": false,
    "scrolled": true
   },
   "outputs": [
    {
     "data": {
      "text/plain": [
       "0"
      ]
     },
     "execution_count": 129,
     "metadata": {},
     "output_type": "execute_result"
    }
   ],
   "source": [
    "#Analyzing if there are null values in the SibSp column\n",
    "\n",
    "df['SibSp'].isnull().sum()"
   ]
  },
  {
   "cell_type": "code",
   "execution_count": 130,
   "metadata": {
    "collapsed": false
   },
   "outputs": [
    {
     "data": {
      "text/plain": [
       "0"
      ]
     },
     "execution_count": 130,
     "metadata": {},
     "output_type": "execute_result"
    }
   ],
   "source": [
    "#Analyzing if there are null values in the Parch column\n",
    "\n",
    "df['Parch'].isnull().sum()"
   ]
  },
  {
   "cell_type": "markdown",
   "metadata": {},
   "source": [
    "### Survived Passengers Analysis\n",
    "\n",
    "The first analysis that will be performed on the dataset if the separation of passengers who survived and passengers who did not. The purpose of my analysis is to look into factors of survival rate so I will be most concern researching the surviving passengers. I then separated the passengers between their gender to see if one gender experienced a higher survival rate. The females had a higher survival rate and I suspect that could result from the women/children first policy. The Titanic had several lifeboats that they were able to load passengers onto and I suspect due to the higher number of females that survived compared to males, there was a policy to place women and children on the lifeboats before males. "
   ]
  },
  {
   "cell_type": "code",
   "execution_count": 131,
   "metadata": {
    "collapsed": false
   },
   "outputs": [
    {
     "data": {
      "text/html": [
       "<div>\n",
       "<table border=\"1\" class=\"dataframe\">\n",
       "  <thead>\n",
       "    <tr style=\"text-align: right;\">\n",
       "      <th></th>\n",
       "      <th>Survived</th>\n",
       "    </tr>\n",
       "    <tr>\n",
       "      <th>Sex</th>\n",
       "      <th></th>\n",
       "    </tr>\n",
       "  </thead>\n",
       "  <tbody>\n",
       "    <tr>\n",
       "      <th>female</th>\n",
       "      <td>233</td>\n",
       "    </tr>\n",
       "    <tr>\n",
       "      <th>male</th>\n",
       "      <td>109</td>\n",
       "    </tr>\n",
       "  </tbody>\n",
       "</table>\n",
       "</div>"
      ],
      "text/plain": [
       "        Survived\n",
       "Sex             \n",
       "female       233\n",
       "male         109"
      ]
     },
     "execution_count": 131,
     "metadata": {},
     "output_type": "execute_result"
    }
   ],
   "source": [
    "#Amount of Survived Passengers broken down by Gender\n",
    "\n",
    "total_survivors = df[(df['Survived'] == 1)]\n",
    "survivors = total_survivors[['Survived', 'Sex']]\n",
    "survivors.groupby(['Sex']).count()"
   ]
  },
  {
   "cell_type": "markdown",
   "metadata": {},
   "source": [
    "To further explore the female passengers in the dataset, they will be separated between whether they were travelling with siblings, spouses, parents, and children compared to females travelling alone. The first analysis shows that 99 females who survived travelled alone. I then created two functions, the first being a count of 96 survived females who travelled with either their sibling(s) or spouse; the second being a count of 80 survived females who travelled with either parents or children. I added the two counts together and found that a total of 176 survived females travelled with some type of companion. This leads me to believe that there was a policy in place in how the lifeboats were being loaded in that females and children were being loaded first, males last. The survival rate of the females is over double the survival rate of men, and 176 of those survived females were travelling with a companion. The analysis can be further explored to understand the ages of both the survived females and males to have more confidence in the policy of women and children being saved first."
   ]
  },
  {
   "cell_type": "code",
   "execution_count": 132,
   "metadata": {
    "collapsed": false
   },
   "outputs": [
    {
     "data": {
      "text/plain": [
       "99"
      ]
     },
     "execution_count": 132,
     "metadata": {},
     "output_type": "execute_result"
    }
   ],
   "source": [
    "#Count of survived females that travelled alone, the SipSp column is set to equal zero and the Parch is set to equal zero\n",
    "\n",
    "females_travelling_alone = df[(df['Sex'] == 'female') & (df['Survived'] == 1) & (df['SibSp'] == 0) & (df['Parch'] == 0)] \n",
    "females_travelling_alone.count()['PassengerId']"
   ]
  },
  {
   "cell_type": "code",
   "execution_count": 133,
   "metadata": {
    "collapsed": false
   },
   "outputs": [
    {
     "data": {
      "text/plain": [
       "96"
      ]
     },
     "execution_count": 133,
     "metadata": {},
     "output_type": "execute_result"
    }
   ],
   "source": [
    "#Count of survived females travelling with sibling(s) or spouse\n",
    "\n",
    "females_travelling_SibSp = df[(df['Sex'] == 'female') & (df['Survived'] == 1) & (df['SibSp'] > 0)] \n",
    "females_travelling_SibSp.count()['PassengerId']"
   ]
  },
  {
   "cell_type": "code",
   "execution_count": 134,
   "metadata": {
    "collapsed": false
   },
   "outputs": [
    {
     "data": {
      "text/plain": [
       "80"
      ]
     },
     "execution_count": 134,
     "metadata": {},
     "output_type": "execute_result"
    }
   ],
   "source": [
    "#Count of survived females travelling with parents or children\n",
    "\n",
    "females_travelling_Parch = df[(df['Sex'] == 'female') & (df['Survived'] == 1) & (df['Parch'] > 0)] \n",
    "females_travelling_Parch.count()['PassengerId']\n"
   ]
  },
  {
   "cell_type": "code",
   "execution_count": 135,
   "metadata": {
    "collapsed": false,
    "scrolled": true
   },
   "outputs": [
    {
     "data": {
      "text/plain": [
       "176"
      ]
     },
     "execution_count": 135,
     "metadata": {},
     "output_type": "execute_result"
    }
   ],
   "source": [
    "#The addition of the count of survived females travelling with sibling(s) or spouses and the count of survived females travelling\n",
    "#with parents or children\n",
    "\n",
    "96 + 80"
   ]
  },
  {
   "cell_type": "markdown",
   "metadata": {},
   "source": [
    "### Survived Females Ages Visualization\n",
    "\n",
    "The below histogram has the ages of the survived females travelling with the N/A values taken out. Bear in mind that this histogram does not include the N/A values of the females' ages so we can only say with great confidence the results below reflect the overall survived females' ages, we can't be 100% sure as all passengers' ages as some are not known. \n",
    "\n",
    "The histogram has three separate bars: (1) females who travelled alone, (2) females who travelled with siblings/spouses, and (3) females who travelled with parents/children. The first take away from the below histogram is that females who were travelling with some type of companion had the highest rate of survival in the age groups 0 - 5 which can be said with confidence that the policy of women and children first on the lifeboats was at play in this specific dataset. The biggest spike for females travelling alone is in the age group 20 - 27, which could be inferred those females were travelling from Europe to America in search of a better life alone. The largest spike for the females travelling with parents and children is in the mid to late twenties which could potentially be the mothers of the surviving female children. The spike for the females travelling with siblings and spouses had the largest spike out of the 3 types of survived females in the 50 age range which could signify those females were travelling with their husbands or siblings. \n",
    "\n",
    "For a future analysis and based on the histogram below, I suspect the age group for the survived males travelling with siblings/spouses to be somewhat reflective of the same females group. If the two groups have a similar pattern, it could signify the amount of married couples travelling together. "
   ]
  },
  {
   "cell_type": "code",
   "execution_count": 352,
   "metadata": {
    "collapsed": false
   },
   "outputs": [
    {
     "data": {
      "image/png": "[encoded data removed]",
      "text/plain": [
       "<matplotlib.figure.Figure at 0xa975d30>"
      ]
     },
     "metadata": {},
     "output_type": "display_data"
    }
   ],
   "source": [
    "#histogram that shows all three types of survived females displayed on one plot\n",
    "\n",
    "%matplotlib inline\n",
    "import numpy as np\n",
    "import matplotlib.pyplot as plt\n",
    "\n",
    "alone_females = females_travelling_alone.dropna(subset = ['Age'])\n",
    "hist_alone_females = alone_females['Age'].astype(int)\n",
    "\n",
    "females_SibSp = females_travelling_SibSp.dropna(subset = ['Age'])\n",
    "hist_females_SibSp = females_SibSp['Age'].astype(int)\n",
    "\n",
    "females_Parch = females_travelling_Parch.dropna(subset = ['Age'])\n",
    "hist_females_Parch = females_Parch['Age'].astype(int)\n",
    "\n",
    "plt.figure(figsize=(10, 5))\n",
    "\n",
    "colors = ['#77C9D4', '#57BC90', '#A5A5AF']\n",
    "labels = ['Females Travelling Alone', 'Females Travelling with Siblings/Spouses', 'Females Travelling with Parents/Children']\n",
    "data = [hist_alone_females, hist_females_SibSp, hist_females_Parch]\n",
    "\n",
    "plt.hist(data, histtype='bar', color= colors, label= labels)\n",
    "plt.legend(prop={'size': 10})\n",
    "plt.title('Histogram of Survived Females Ages')\n",
    "plt.xlabel('Age of Females')\n",
    "plt.ylabel('Frequency of Age')\n",
    "\n",
    "\n",
    "plt.show()"
   ]
  },
  {
   "cell_type": "markdown",
   "metadata": {},
   "source": [
    "### Survived Passengers by Class Hypothesis\n",
    "\n",
    "The next question to address in my analysis is deciding if the class of ticket that was purchased had an influence on the survival rate. I hypothesize that the first class ticketed passengers had a higher rate of survival as the decks that were available to the first class were towards the top of the ship. The first class passengers were then able to get to the lifeboats more quickly because they were already towards the top of the ship. I suspect that the third class passengers will have the lowest rate of survival as their accomodations were located towards the bottom of the ship."
   ]
  },
  {
   "cell_type": "markdown",
   "metadata": {},
   "source": [
    "### Survived Passengers by Class Analysis\n",
    "\n",
    "The first pie chart below represents the percentages of survived males in each of the three types of classes: first, second, and third. My hypothesis for the survived males proves to be true, however not by a far margin compared to the percentage of the third class male survivors. The survived males in the first class experienced a higher rate of survival because they were located in the top decks of the Titanic so they were able to get to the lifeboats. After the women and children were loaded onto the lifeboats, the men were then able to load the boats in available spaces. I was surprised to see that third class had almost the same amount of first class because the third class levels were located near the bottom of the boat so my assumption was that it would take much longer for the males to make their way up to the top. \n",
    "\n",
    "The second pie chart below represents the percentages of survived females in each of the three types of classes: first, second, and third. My hypothesis for the women was correct in that the first class had the highest rate of survival of females. The females staying in the first class decks were much closer to the lifeboats and were able to be loaded first on the lifeboats. The second highest class of survived females was the second class and the third class being last. The third class survived females could be the lowest because they were located towards the bottom of the Titanic and they might have been more concerned with getting their children to the top of the Titanic to load onto the lifeboats. \n",
    "\n",
    "The pie charts confirm that survived passengers who purchased first class tickets had the highest rate of survival due to their location on the Titanic and their proximity to the lifeboats. \n"
   ]
  },
  {
   "cell_type": "code",
   "execution_count": 348,
   "metadata": {
    "collapsed": false
   },
   "outputs": [
    {
     "data": {
      "image/png": "[encoded data removed]",
      "text/plain": [
       "<matplotlib.figure.Figure at 0x16063710>"
      ]
     },
     "metadata": {},
     "output_type": "display_data"
    }
   ],
   "source": [
    "#Pie charts breaking down the survived passengers by gender and class of ticket purchased\n",
    "\n",
    "survived_males_1class = df[(df['Sex'] == 'male') & (df['Survived'] == 1) & (df['Pclass'] == 1)] \n",
    "survived_males_2class = df[(df['Sex'] == 'male') & (df['Survived'] == 1) & (df['Pclass'] == 2)] \n",
    "survived_males_3class = df[(df['Sex'] == 'male') & (df['Survived'] == 1) & (df['Pclass'] == 3)] \n",
    "\n",
    "survived_females_1class = df[(df['Sex'] == 'female') & (df['Survived'] == 1) & (df['Pclass'] == 1)] \n",
    "survived_females_2class = df[(df['Sex'] == 'female') & (df['Survived'] == 1) & (df['Pclass'] == 2)] \n",
    "survived_females_3class = df[(df['Sex'] == 'female') & (df['Survived'] == 1) & (df['Pclass'] == 3)] \n",
    "\n",
    "males_1 = survived_males_1class.dropna(subset = ['Age'])\n",
    "males_2 = survived_males_2class.dropna(subset = ['Age'])\n",
    "males_3 = survived_males_3class.dropna(subset = ['Age'])\n",
    "females_1 = survived_females_1class.dropna(subset = ['Age'])\n",
    "females_2 = survived_females_2class.dropna(subset = ['Age'])\n",
    "females_3 = survived_females_3class.dropna(subset = ['Age'])\n",
    "\n",
    "\n",
    "x = males_1['PassengerId'].count()\n",
    "y = males_2['PassengerId'].count()\n",
    "z = males_3['PassengerId'].count()\n",
    "\n",
    "t = females_1['PassengerId'].count()\n",
    "u = females_2['PassengerId'].count()\n",
    "v = females_3['PassengerId'].count()\n",
    "\n",
    "sizes = [x, y, z]\n",
    "sizes_1 = [t, u, v]\n",
    "labels = ['Males in the 1st Class', 'Males in the 2nd Class', 'Males in the 3rd Class']\n",
    "labels_1 = ['Females in the 1st Class', 'Females in the 2nd Class', 'Females in the 3rd Class']\n",
    "colors = ['#77C9D4', '#57BC90', '#A5A5AF']\n",
    "\n",
    "\n",
    "plt.pie(sizes, labels=labels, colors=colors, autopct='%1.1f%%', shadow=True, startangle=90, radius = 1, center=(0, 0))\n",
    "plt.title('Survived Males Percentages by Class of Ticket Purchased')\n",
    "plt.axis('equal')\n",
    "\n",
    "plt.show()"
   ]
  },
  {
   "cell_type": "code",
   "execution_count": 349,
   "metadata": {
    "collapsed": false
   },
   "outputs": [
    {
     "data": {
      "image/png": "[encoded data removed]",
      "text/plain": [
       "<matplotlib.figure.Figure at 0xd2d4860>"
      ]
     },
     "metadata": {},
     "output_type": "display_data"
    }
   ],
   "source": [
    "#Survived Females percentages by class of ticket purchased pie chart\n",
    "\n",
    "plt.pie(sizes_1, labels=labels_1, colors=colors, autopct='%1.1f%%', shadow=True, startangle=90, radius = 1, center=(0, 1))\n",
    "plt.title('Survived Females Percentages by Class of Ticket Purchased')\n",
    "plt.axis('equal')\n",
    "\n",
    "plt.show()"
   ]
  },
  {
   "cell_type": "markdown",
   "metadata": {},
   "source": [
    "### Average Age of Survived Passengers by Class Hypothesis\n",
    "\n",
    "The analysis now reflects that survivors travelling in first class had the highest rate of survival, however the survived males in the 3rd class were very close to the first class. For the passengers' ages that are known, I hypothesize that survived males and females  in the first class will be older and had enough time to make it to lifeboats compared to survived males and females in the third class who will have a younger age and were able to manuver to the top of the Titanic."
   ]
  },
  {
   "cell_type": "markdown",
   "metadata": {},
   "source": [
    "### Average Age of Survived Passengers by Class Analysis\n",
    "\n",
    "I took the average of the survived males' ages that were broken down by their class of ticket. My hypothesis is correct in that the survived males and females in the first class were older than the average survived males and females in the third class. The age of the survived males females in first class could be higher because they could have had more money available to them to purchase a first class ticket and could have been travelling for pleasure, whereas the survived males and females travelling in third class were in search of a better life than in Europe and had just enough money to travel on the Titanic in third class. I also conclude from the comparison of the average ages broken down by each class that the younger men and women travelling in third class were able to manuver to the top of the Titanic much more quickly than older survived men and women travelling in third class as well. I also believe that the third class survived passengers are at a younger age because there could have been more children travelling in second and third class and the dataset does validate that there was a women and children policy at work so the children were placed onto the lifeboats, regardless of their class of ticket.\n"
   ]
  },
  {
   "cell_type": "code",
   "execution_count": 350,
   "metadata": {
    "collapsed": false
   },
   "outputs": [
    {
     "name": "stdout",
     "output_type": "stream",
     "text": [
      "Average age of survived males travelling in first class:  36\n",
      "Average age of survived males travelling in second class:  16\n",
      "Average age of survived males travelling in third class:  22\n",
      "Average age of survived females travelling in first class:  34\n",
      "Average age of survived females travelling in second class:  28\n",
      "Average age of survived females travelling in third class:  19\n"
     ]
    }
   ],
   "source": [
    "#Average age of both genders broken down by their class of ticket purchased\n",
    "\n",
    "avg_male_1 = males_1['Age'].mean()\n",
    "avg_male_2 = males_2['Age'].mean()\n",
    "avg_male_3 = males_3['Age'].mean()\n",
    "\n",
    "avg_female_1 = females_1['Age'].mean()\n",
    "avg_female_2 = females_2['Age'].mean()\n",
    "avg_female_3 = females_3['Age'].mean()\n",
    "\n",
    "\n",
    "print \"Average age of survived males travelling in first class: \", int(avg_male_1)\n",
    "print \"Average age of survived males travelling in second class: \", int(avg_male_2)\n",
    "print \"Average age of survived males travelling in third class: \", int(avg_male_3)\n",
    "\n",
    "\n",
    "print \"Average age of survived females travelling in first class: \", int(avg_female_1)\n",
    "print \"Average age of survived females travelling in second class: \", int(avg_female_2)\n",
    "print \"Average age of survived females travelling in third class: \", int(avg_female_3)"
   ]
  },
  {
   "cell_type": "markdown",
   "metadata": {},
   "source": [
    "### Conclusion\n",
    "\n",
    "Overall, my initial hypothesis of women and children first onto the lifeboats proved to be correct. The histogram above reflects the women travelling with parents or children had the largest spike in the bins age 10 and lower. That spike indicates that those females were children and were placed onto the lifeboats first. The analysis on whether more women or men survived within this dataset also validates my hypothesis of more women survived. The pie chart analysis of the survived females also indicates survived females travelling in the first class had the highest rate of survival because they were located closer to the top of the Titanic and were able to manuver to the lifeboats more quickly than the women travelling in third class. I also believe that more mothers could have potentially been travelling in the third class and were more concerned to get their children to safety in the lifeboats. \n",
    "\n",
    "My hypothesis in regards to the class of ticket also had an affect on the survival rate, however it was not as dramatic of a difference for the survived males in the first and third class. The average age of men travelling in first class did contain the highest average age because they could have been more wealthy and more funds accessible to them and were travelling for leisure, whereas men who purchased third class tickets were potentially in search of a better life in America. I also believe that the average age of males in the third class was young because that could also be incorporating children who were travelling and were able to make it onto the lifeboats, regardless of their class of ticket. Young families were in search of a better and more prosperous life in America so I conclude that is the cause of the younger average ages of both men and women.\n",
    "\n",
    "\n",
    "Overall, I believe that this dataset could contain a bias towards survived women as there were more survived women than double of survived men. I think that if the dataset was more balanced between survived females and males, there could be more analysis on if families were travelling together. I also believe that if all ages were present for the passengers within the dataset, a more confident conclusion could be drawn from using the age. The dataset contains 177 unknown ages for the entire dataset so that does leave a gap within the dataset to truly understand the ages of the passengers. Based on the ages provided, we can only make assumptions with great confidence of the majority of the passengers, but we cannot draw conclusions that are telling of the entire dataset.\n",
    "\n",
    "I think that further analyzing how many families were travelling aboard the Titanic would be very interesting to further analyze. I think that would be more validation as to the women and children first policy as well as understanding the behavior of the survived passengers. Were survived males travelling alone more motivated to help others reach safety in third class or were those survived males in the third class travelling with their families. I think that the analysis would be very interesting to try and understand passengers' behavior to reaching safety on the lifeboats.\n",
    "\n",
    "\n",
    "### Sources Used for Analysis:\n",
    "\n",
    "http://matplotlib.org/examples/statistics/histogram_demo_multihist.html\n",
    "https://upload.wikimedia.org/wikipedia/commons/thumb/8/84/Titanic_cutaway_diagram.png/687px-Titanic_cutaway_diagram.png\n",
    "https://www.youtube.com/watch?v=ZyTO4SwhSeE\n",
    "http://chrisalbon.com/python/pandas_index_select_and_filter.html\n",
    "http://matplotlib.org/examples/pie_and_polar_charts/pie_demo_features.html\n",
    "http://pandas.pydata.org/pandas-docs/version/0.15.0/visualization.html#visualization-hist\n",
    "http://chris.friedline.net/2015-12-15-rutgers/lessons/python2/03-data-types-and-format.html"
   ]
  }
 ],
 "metadata": {
  "kernelspec": {
   "display_name": "Python 2",
   "language": "python",
   "name": "python2"
  },
  "language_info": {
   "codemirror_mode": {
    "name": "ipython",
    "version": 2
   },
   "file_extension": ".py",
   "mimetype": "text/x-python",
   "name": "python",
   "nbconvert_exporter": "python",
   "pygments_lexer": "ipython2",
   "version": "2.7.11"
  }
 },
 "nbformat": 4,
 "nbformat_minor": 0
}
