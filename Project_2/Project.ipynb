{
 "cells": [
  {
   "cell_type": "markdown",
   "metadata": {},
   "source": [
    "### The dataset that I used for this project was the Titantic Data set. The questions that I posed were to understand what three factors had the highest impact on the chance of survival for the passengers. I focused my analysis on the gender of the passenger, the class of ticket that was purchased, as well as the age of the passengers. I did find in the dataset that there were passengers whose age were not known, so I performed my age analysis on passengers whose ages were known. My steps to analyzing the data are described below. My analysis can be found below."
   ]
  },
  {
   "cell_type": "code",
   "execution_count": 2,
   "metadata": {
    "collapsed": false,
    "scrolled": true
   },
   "outputs": [
    {
     "name": "stdout",
     "output_type": "stream",
     "text": [
      "   PassengerId  Survived  Pclass  \\\n",
      "0            1         0       3   \n",
      "1            2         1       1   \n",
      "2            3         1       3   \n",
      "3            4         1       1   \n",
      "4            5         0       3   \n",
      "\n",
      "                                                Name     Sex  Age  SibSp  \\\n",
      "0                            Braund, Mr. Owen Harris    male   22      1   \n",
      "1  Cumings, Mrs. John Bradley (Florence Briggs Th...  female   38      1   \n",
      "2                             Heikkinen, Miss. Laina  female   26      0   \n",
      "3       Futrelle, Mrs. Jacques Heath (Lily May Peel)  female   35      1   \n",
      "4                           Allen, Mr. William Henry    male   35      0   \n",
      "\n",
      "   Parch            Ticket     Fare Cabin Embarked  \n",
      "0      0         A/5 21171   7.2500   NaN        S  \n",
      "1      0          PC 17599  71.2833   C85        C  \n",
      "2      0  STON/O2. 3101282   7.9250   NaN        S  \n",
      "3      0            113803  53.1000  C123        S  \n",
      "4      0            373450   8.0500   NaN        S  \n"
     ]
    }
   ],
   "source": [
    "#Importing the data into the notebook\n",
    "\n",
    "import pandas as pd\n",
    "\n",
    "df = pd.read_csv(\"titanic_data.csv\")\n",
    "\n",
    "print df.head()"
   ]
  },
  {
   "cell_type": "markdown",
   "metadata": {},
   "source": [
    "### This part of the Analysis is used to load the dataset into the Python notebook"
   ]
  },
  {
   "cell_type": "code",
   "execution_count": 3,
   "metadata": {
    "collapsed": false
   },
   "outputs": [
    {
     "data": {
      "text/plain": [
       "891"
      ]
     },
     "execution_count": 3,
     "metadata": {},
     "output_type": "execute_result"
    }
   ],
   "source": [
    "#Amount of passengers within the dataset\n",
    "\n",
    "len(df)"
   ]
  },
  {
   "cell_type": "markdown",
   "metadata": {},
   "source": [
    "### The dataset contains one row of information per passenger. The length of the dataset was used in order to count the amount of passengers within the dataset. The length of the dataset is 891, meaning there are 891 passengers within the dataset"
   ]
  },
  {
   "cell_type": "code",
   "execution_count": 4,
   "metadata": {
    "collapsed": false,
    "scrolled": true
   },
   "outputs": [
    {
     "data": {
      "text/html": [
       "<div>\n",
       "<table border=\"1\" class=\"dataframe\">\n",
       "  <thead>\n",
       "    <tr style=\"text-align: right;\">\n",
       "      <th></th>\n",
       "      <th>PassengerId</th>\n",
       "      <th>Survived</th>\n",
       "      <th>Pclass</th>\n",
       "      <th>Sex</th>\n",
       "      <th>Age</th>\n",
       "      <th>SibSp</th>\n",
       "      <th>Parch</th>\n",
       "    </tr>\n",
       "  </thead>\n",
       "  <tbody>\n",
       "    <tr>\n",
       "      <th>0</th>\n",
       "      <td>1</td>\n",
       "      <td>0</td>\n",
       "      <td>3</td>\n",
       "      <td>male</td>\n",
       "      <td>22</td>\n",
       "      <td>1</td>\n",
       "      <td>0</td>\n",
       "    </tr>\n",
       "    <tr>\n",
       "      <th>1</th>\n",
       "      <td>2</td>\n",
       "      <td>1</td>\n",
       "      <td>1</td>\n",
       "      <td>female</td>\n",
       "      <td>38</td>\n",
       "      <td>1</td>\n",
       "      <td>0</td>\n",
       "    </tr>\n",
       "    <tr>\n",
       "      <th>2</th>\n",
       "      <td>3</td>\n",
       "      <td>1</td>\n",
       "      <td>3</td>\n",
       "      <td>female</td>\n",
       "      <td>26</td>\n",
       "      <td>0</td>\n",
       "      <td>0</td>\n",
       "    </tr>\n",
       "  </tbody>\n",
       "</table>\n",
       "</div>"
      ],
      "text/plain": [
       "   PassengerId  Survived  Pclass     Sex  Age  SibSp  Parch\n",
       "0            1         0       3    male   22      1      0\n",
       "1            2         1       1  female   38      1      0\n",
       "2            3         1       3  female   26      0      0"
      ]
     },
     "execution_count": 4,
     "metadata": {},
     "output_type": "execute_result"
    }
   ],
   "source": [
    "#Cleansing Data to remove unnecessary columns not needed for Analysis\n",
    "\n",
    "df = df.drop(['Name', 'Ticket', 'Fare', 'Embarked', 'Cabin'], axis = 1)\n",
    "df.head(3)"
   ]
  },
  {
   "cell_type": "markdown",
   "metadata": {},
   "source": [
    "### There were several columns within the dataset that were not imparative to analyze in regards to factors pertaining to the survivors. The passengers' names, price of ticket, embarcation point, as well as their cabin did not have a direct impact on whether the passengers survived or not. The ticket price correlated to the class of the ticket, however the amount that was paid for the ticket did not have an affect on the survival rate."
   ]
  },
  {
   "cell_type": "code",
   "execution_count": 5,
   "metadata": {
    "collapsed": false
   },
   "outputs": [
    {
     "data": {
      "text/html": [
       "<div>\n",
       "<table border=\"1\" class=\"dataframe\">\n",
       "  <thead>\n",
       "    <tr style=\"text-align: right;\">\n",
       "      <th></th>\n",
       "      <th>PassengerId</th>\n",
       "    </tr>\n",
       "    <tr>\n",
       "      <th>Sex</th>\n",
       "      <th></th>\n",
       "    </tr>\n",
       "  </thead>\n",
       "  <tbody>\n",
       "    <tr>\n",
       "      <th>female</th>\n",
       "      <td>314</td>\n",
       "    </tr>\n",
       "    <tr>\n",
       "      <th>male</th>\n",
       "      <td>577</td>\n",
       "    </tr>\n",
       "  </tbody>\n",
       "</table>\n",
       "</div>"
      ],
      "text/plain": [
       "        PassengerId\n",
       "Sex                \n",
       "female          314\n",
       "male            577"
      ]
     },
     "execution_count": 5,
     "metadata": {},
     "output_type": "execute_result"
    }
   ],
   "source": [
    "#All Passengers broken down by Gender\n",
    "\n",
    "total_df = df[['PassengerId', 'Sex']]\n",
    "total_df.groupby(['Sex']).count()"
   ]
  },
  {
   "cell_type": "markdown",
   "metadata": {},
   "source": [
    "### The dataset was then broken down for all passengers, whether they survived or not, by gender. There were more males travelling than females in this dataset by 30%."
   ]
  },
  {
   "cell_type": "code",
   "execution_count": 6,
   "metadata": {
    "collapsed": false
   },
   "outputs": [
    {
     "data": {
      "text/html": [
       "<div>\n",
       "<table border=\"1\" class=\"dataframe\">\n",
       "  <thead>\n",
       "    <tr style=\"text-align: right;\">\n",
       "      <th></th>\n",
       "      <th>Survived</th>\n",
       "    </tr>\n",
       "    <tr>\n",
       "      <th>Sex</th>\n",
       "      <th></th>\n",
       "    </tr>\n",
       "  </thead>\n",
       "  <tbody>\n",
       "    <tr>\n",
       "      <th>female</th>\n",
       "      <td>233</td>\n",
       "    </tr>\n",
       "    <tr>\n",
       "      <th>male</th>\n",
       "      <td>109</td>\n",
       "    </tr>\n",
       "  </tbody>\n",
       "</table>\n",
       "</div>"
      ],
      "text/plain": [
       "        Survived\n",
       "Sex             \n",
       "female       233\n",
       "male         109"
      ]
     },
     "execution_count": 6,
     "metadata": {},
     "output_type": "execute_result"
    }
   ],
   "source": [
    "#Amount of Survived Passengers broken down by Gender\n",
    "\n",
    "total_survivors = df[(df['Survived'] == 1)]\n",
    "survivors = total_survivors[['Survived', 'Sex']]\n",
    "survivors.groupby(['Sex']).count()"
   ]
  },
  {
   "cell_type": "markdown",
   "metadata": {},
   "source": [
    "### The dataset was then broken down by whether the passenger survived if there was a '1' in the Survived column within their row. I broke down the gender of survivors and found that out of the 342 survivors within this dataset, 68% were females. This can be considered a factor of survival because it represents that for every male who survived, 3 females survived."
   ]
  },
  {
   "cell_type": "code",
   "execution_count": 7,
   "metadata": {
    "collapsed": false
   },
   "outputs": [
    {
     "data": {
      "text/html": [
       "<div>\n",
       "<table border=\"1\" class=\"dataframe\">\n",
       "  <thead>\n",
       "    <tr style=\"text-align: right;\">\n",
       "      <th></th>\n",
       "      <th></th>\n",
       "      <th>Survived</th>\n",
       "    </tr>\n",
       "    <tr>\n",
       "      <th>Sex</th>\n",
       "      <th>Pclass</th>\n",
       "      <th></th>\n",
       "    </tr>\n",
       "  </thead>\n",
       "  <tbody>\n",
       "    <tr>\n",
       "      <th rowspan=\"3\" valign=\"top\">female</th>\n",
       "      <th>1</th>\n",
       "      <td>91</td>\n",
       "    </tr>\n",
       "    <tr>\n",
       "      <th>2</th>\n",
       "      <td>70</td>\n",
       "    </tr>\n",
       "    <tr>\n",
       "      <th>3</th>\n",
       "      <td>72</td>\n",
       "    </tr>\n",
       "    <tr>\n",
       "      <th rowspan=\"3\" valign=\"top\">male</th>\n",
       "      <th>1</th>\n",
       "      <td>45</td>\n",
       "    </tr>\n",
       "    <tr>\n",
       "      <th>2</th>\n",
       "      <td>17</td>\n",
       "    </tr>\n",
       "    <tr>\n",
       "      <th>3</th>\n",
       "      <td>47</td>\n",
       "    </tr>\n",
       "  </tbody>\n",
       "</table>\n",
       "</div>"
      ],
      "text/plain": [
       "               Survived\n",
       "Sex    Pclass          \n",
       "female 1             91\n",
       "       2             70\n",
       "       3             72\n",
       "male   1             45\n",
       "       2             17\n",
       "       3             47"
      ]
     },
     "execution_count": 7,
     "metadata": {},
     "output_type": "execute_result"
    }
   ],
   "source": [
    "#Survived Passengers broken down by Gender and Class of Ticket\n",
    "\n",
    "total_survivors = df[(df['Survived'] == 1)]\n",
    "survived = total_survivors[['Survived', 'Pclass', 'Sex']]\n",
    "survived.groupby(['Sex', 'Pclass']).count()\n"
   ]
  },
  {
   "cell_type": "markdown",
   "metadata": {},
   "source": [
    "### I then broke the dataset down by gender and by their class of ticket. For females, there was the same amount of survivors in either second or third class, whereas females who purchased first class tickets had a higher survival rate. For males, they had clost to the same chance of survival if they purchased either a first or third class ticket. The class of ticket is considered a factor of survival because the data shows that there more survivors for either females or males in certain classes of tickets purchased."
   ]
  },
  {
   "cell_type": "code",
   "execution_count": 8,
   "metadata": {
    "collapsed": false,
    "scrolled": true
   },
   "outputs": [
    {
     "data": {
      "text/html": [
       "<div>\n",
       "<table border=\"1\" class=\"dataframe\">\n",
       "  <thead>\n",
       "    <tr style=\"text-align: right;\">\n",
       "      <th></th>\n",
       "      <th>Survived</th>\n",
       "    </tr>\n",
       "    <tr>\n",
       "      <th>Pclass</th>\n",
       "      <th></th>\n",
       "    </tr>\n",
       "  </thead>\n",
       "  <tbody>\n",
       "    <tr>\n",
       "      <th>1</th>\n",
       "      <td>91</td>\n",
       "    </tr>\n",
       "    <tr>\n",
       "      <th>2</th>\n",
       "      <td>70</td>\n",
       "    </tr>\n",
       "    <tr>\n",
       "      <th>3</th>\n",
       "      <td>72</td>\n",
       "    </tr>\n",
       "  </tbody>\n",
       "</table>\n",
       "</div>"
      ],
      "text/plain": [
       "        Survived\n",
       "Pclass          \n",
       "1             91\n",
       "2             70\n",
       "3             72"
      ]
     },
     "execution_count": 8,
     "metadata": {},
     "output_type": "execute_result"
    }
   ],
   "source": [
    "#Survived Females broken down by Class of Ticket\n",
    "\n",
    "total_females = df[(df['Sex'] == 'female') & (df['Survived'] == 1)]\n",
    "survived_females = total_females[['Survived', 'Pclass']]\n",
    "survived_females.groupby(['Pclass']).count()\n"
   ]
  },
  {
   "cell_type": "markdown",
   "metadata": {},
   "source": [
    "### The above dataset shows the survived females broken down by class separately."
   ]
  },
  {
   "cell_type": "code",
   "execution_count": 9,
   "metadata": {
    "collapsed": false,
    "scrolled": true
   },
   "outputs": [
    {
     "data": {
      "text/html": [
       "<div>\n",
       "<table border=\"1\" class=\"dataframe\">\n",
       "  <thead>\n",
       "    <tr style=\"text-align: right;\">\n",
       "      <th></th>\n",
       "      <th>Survived</th>\n",
       "    </tr>\n",
       "    <tr>\n",
       "      <th>Pclass</th>\n",
       "      <th></th>\n",
       "    </tr>\n",
       "  </thead>\n",
       "  <tbody>\n",
       "    <tr>\n",
       "      <th>1</th>\n",
       "      <td>45</td>\n",
       "    </tr>\n",
       "    <tr>\n",
       "      <th>2</th>\n",
       "      <td>17</td>\n",
       "    </tr>\n",
       "    <tr>\n",
       "      <th>3</th>\n",
       "      <td>47</td>\n",
       "    </tr>\n",
       "  </tbody>\n",
       "</table>\n",
       "</div>"
      ],
      "text/plain": [
       "        Survived\n",
       "Pclass          \n",
       "1             45\n",
       "2             17\n",
       "3             47"
      ]
     },
     "execution_count": 9,
     "metadata": {},
     "output_type": "execute_result"
    }
   ],
   "source": [
    "#Survived Males broken down by Class of Ticket\n",
    "\n",
    "total_males = df[(df['Sex'] == 'male') & (df['Survived'] == 1)]\n",
    "survived_males = total_males[['Survived', 'Pclass']]\n",
    "survived_males.groupby(['Pclass']).count()\n"
   ]
  },
  {
   "cell_type": "markdown",
   "metadata": {},
   "source": [
    "### The above dataset shows the survived males broken down by class separately."
   ]
  },
  {
   "cell_type": "code",
   "execution_count": 10,
   "metadata": {
    "collapsed": false
   },
   "outputs": [
    {
     "data": {
      "text/plain": [
       "29.0"
      ]
     },
     "execution_count": 10,
     "metadata": {},
     "output_type": "execute_result"
    }
   ],
   "source": [
    "#Average Age of Survived Females \n",
    "\n",
    "total_females_description = df[(df['Sex'] == 'female') & (df['Survived'] == 1)]\n",
    "decimals = total_females_description.mean()['Age']\n",
    "decimals.round()\n"
   ]
  },
  {
   "cell_type": "markdown",
   "metadata": {},
   "source": [
    "### The average age then was taken for survived females to understand if age was a factor in survival. The average age of surviving females was 29 years old."
   ]
  },
  {
   "cell_type": "code",
   "execution_count": 11,
   "metadata": {
    "collapsed": false
   },
   "outputs": [
    {
     "data": {
      "text/plain": [
       "27.0"
      ]
     },
     "execution_count": 11,
     "metadata": {},
     "output_type": "execute_result"
    }
   ],
   "source": [
    "#Average Age of Survived Males\n",
    "\n",
    "total_males_description = df[(df['Sex'] == 'male') & (df['Survived'] == 1)]\n",
    "decimals = total_males_description.mean()['Age']\n",
    "decimals.round()"
   ]
  },
  {
   "cell_type": "markdown",
   "metadata": {},
   "source": [
    "### The average age was then taken for survived males and was found that the average age of surviving males was 27 years old."
   ]
  },
  {
   "cell_type": "code",
   "execution_count": 12,
   "metadata": {
    "collapsed": false
   },
   "outputs": [],
   "source": [
    "import numpy as np\n",
    "import matplotlib.pyplot as plt\n",
    "\n",
    "#Survived Males Ages Histograms by Class of Ticket\n",
    "\n",
    "a = df[(df['Sex'] == 'male') & (df['Survived'] == 1)&(pd.notnull(df['Age']))]['Age']\n",
    "b = df[(df['Sex'] == 'male') & (df['Survived'] == 1)&(pd.notnull(df['Age']))&(df['Pclass'] == 1)]['Age']\n",
    "c = df[(df['Sex'] == 'male') & (df['Survived'] == 1)&(pd.notnull(df['Age']))&(df['Pclass'] == 2)]['Age']\n",
    "d = df[(df['Sex'] == 'male') & (df['Survived'] == 1)&(pd.notnull(df['Age']))&(df['Pclass'] == 3)]['Age']\n",
    "\n",
    "\n",
    "\n",
    "\n",
    "fig1 = plt.figure()\n",
    "ax1 = fig1.add_subplot(1, 1, 1)\n",
    "n, bins, patches = ax1.hist(a, color = '#286DA8')\n",
    "ax1.set_ylim(0, 40)\n",
    "ax1.set_xlabel('Age of Males Survived', fontsize=14)\n",
    "ax1.set_ylabel('Survived Males Count', fontsize=14)\n",
    "ax1.set_title('Ages of Survived Males for all Classes', fontsize=16)\n",
    "ax1.spines[\"top\"].set_visible(False)  \n",
    "ax1.spines[\"right\"].set_visible(False)\n",
    "ax1.get_xaxis().tick_bottom()  \n",
    "ax1.get_yaxis().tick_left()\n",
    "\n",
    "  \n",
    "\n",
    "fig2 = plt.figure()\n",
    "ax2 = fig2.add_subplot(1, 1, 1)\n",
    "n, bins, patches = ax2.hist(b, color = '#CD5360')\n",
    "ax2.set_ylim(0, 15)\n",
    "ax2.set_xlabel('Age of Males Survived', fontsize=14)\n",
    "ax2.set_ylabel('Survived Males Count', fontsize=14)\n",
    "ax2.set_title('Ages of Survived Males in First Class', fontsize=16)\n",
    "ax2.spines[\"top\"].set_visible(False)  \n",
    "ax2.spines[\"right\"].set_visible(False)\n",
    "ax2.get_xaxis().tick_bottom()  \n",
    "ax2.get_yaxis().tick_left() \n",
    "\n",
    "fig3 = plt.figure()\n",
    "ax3 = fig3.add_subplot(1, 1, 1)\n",
    "ax3.set_ylim(0, 15)\n",
    "n, bins, patches = ax3.hist(c, color = '#B37D4E')\n",
    "ax3.set_xlabel('Age of Males Survived', fontsize=14)\n",
    "ax3.set_ylabel('Survived Males Count', fontsize=14)\n",
    "ax3.set_title('Ages of Survived Males in Second Class', fontsize=16)\n",
    "ax3.spines[\"top\"].set_visible(False)  \n",
    "ax3.spines[\"right\"].set_visible(False)\n",
    "ax3.get_xaxis().tick_bottom()  \n",
    "ax3.get_yaxis().tick_left() \n",
    "\n",
    "fig4 = plt.figure()\n",
    "ax4 = fig4.add_subplot(1, 1, 1)\n",
    "n, bins, patches = ax4.hist(d, color = '#438496')\n",
    "ax4.set_ylim(0, 15)\n",
    "ax4.set_xlabel('Age of Males Survived', fontsize=14)\n",
    "ax4.set_ylabel('Survived Males Count', fontsize=14)\n",
    "ax4.set_title('Ages of Survived Males in Third Class', fontsize=16)\n",
    "ax4.spines[\"top\"].set_visible(False)  \n",
    "ax4.spines[\"right\"].set_visible(False)\n",
    "ax4.get_xaxis().tick_bottom()  \n",
    "ax4.get_yaxis().tick_left() "
   ]
  },
  {
   "cell_type": "markdown",
   "metadata": {},
   "source": [
    "### Histograms of the survived passengers' ages are a great visualization to use to analyze the survivors' ages compared by their class of ticket. The first histogram represents all ages of survived males, including all three types of ticket classes. There is a spike within the first histogram within the age group of 25 - 30, which correlates to the average age of male survivors, regardless of their class of ticket. The second histogram then represents survived males in the first class and the most frequent age is between 35 - 40. The third histogram shows survived males in the second class representing a spike within the 0 - 5 year age group. The last histogram of the survived males in the third class show that males ranging between 22 - 27 years old had a higher chance of survival."
   ]
  },
  {
   "cell_type": "code",
   "execution_count": 15,
   "metadata": {
    "collapsed": false,
    "scrolled": false
   },
   "outputs": [],
   "source": [
    "#Survived Females Ages Histograms by Class of Ticket\n",
    "\n",
    "a2 = df[(df['Sex'] == 'female') & (df['Survived'] == 1)&(pd.notnull(df['Age']))]['Age']\n",
    "b2 = df[(df['Sex'] == 'female') & (df['Survived'] == 1)&(pd.notnull(df['Age']))&(df['Pclass'] == 1)]['Age']\n",
    "c2 = df[(df['Sex'] == 'female') & (df['Survived'] == 1)&(pd.notnull(df['Age']))&(df['Pclass'] == 2)]['Age']\n",
    "d2 = df[(df['Sex'] == 'female') & (df['Survived'] == 1)&(pd.notnull(df['Age']))&(df['Pclass'] == 3)]['Age']\n",
    "\n",
    "\n",
    "\n",
    "\n",
    "fig1 = plt.figure()\n",
    "fax1 = fig1.add_subplot(1, 1, 1)\n",
    "n, bins, patches = fax1.hist(a2, color = '#286DA8')\n",
    "fax1.set_ylim(0, 40)\n",
    "fax1.set_xlabel('Age of Females Survived', fontsize=14)\n",
    "fax1.set_ylabel('Survived Females Count', fontsize=14)\n",
    "fax1.set_title('Ages of Survived Females for all Classes', fontsize=16)\n",
    "fax1.spines[\"top\"].set_visible(False)  \n",
    "fax1.spines[\"right\"].set_visible(False)\n",
    "fax1.get_xaxis().tick_bottom()  \n",
    "fax1.get_yaxis().tick_left()\n",
    "\n",
    "  \n",
    "\n",
    "fig2 = plt.figure()\n",
    "fax2 = fig2.add_subplot(1, 1, 1)\n",
    "n, bins, patches = fax2.hist(b2, color = '#CD5360')\n",
    "fax2.set_ylim(0, 15)\n",
    "fax2.set_xlabel('Age of Females Survived', fontsize=14)\n",
    "fax2.set_ylabel('Survived Females Count', fontsize=14)\n",
    "fax2.set_title('Ages of Survived Females in First Class', fontsize=16)\n",
    "fax2.spines[\"top\"].set_visible(False)  \n",
    "fax2.spines[\"right\"].set_visible(False)\n",
    "fax2.get_xaxis().tick_bottom()  \n",
    "fax2.get_yaxis().tick_left() \n",
    "\n",
    "fig3 = plt.figure()\n",
    "fax3 = fig3.add_subplot(1, 1, 1)\n",
    "fax3.set_ylim(0, 15)\n",
    "n, bins, patches = fax3.hist(c2, color = '#B37D4E')\n",
    "fax3.set_xlabel('Age of Females Survived', fontsize=14)\n",
    "fax3.set_ylabel('Survived Females Count', fontsize=14)\n",
    "fax3.set_title('Ages of Survived Females in Second Class', fontsize=16)\n",
    "fax3.spines[\"top\"].set_visible(False)  \n",
    "fax3.spines[\"right\"].set_visible(False)\n",
    "fax3.get_xaxis().tick_bottom()  \n",
    "fax3.get_yaxis().tick_left() \n",
    "\n",
    "fig4 = plt.figure()\n",
    "fax4 = fig4.add_subplot(1, 1, 1)\n",
    "n, bins, patches = fax4.hist(d2, color = '#438496')\n",
    "fax4.set_ylim(0, 15)\n",
    "fax4.set_xlabel('Age of Females Survived', fontsize=14)\n",
    "fax4.set_ylabel('Survived Females Count', fontsize=14)\n",
    "fax4.set_title('Ages of Survived Females in Third Class', fontsize=16)\n",
    "fax4.spines[\"top\"].set_visible(False)  \n",
    "fax4.spines[\"right\"].set_visible(False)\n",
    "fax4.get_xaxis().tick_bottom()  \n",
    "fax4.get_yaxis().tick_left() "
   ]
  },
  {
   "cell_type": "markdown",
   "metadata": {},
   "source": [
    "### The second set of histograms represent survived females' ages grouped by their class of ticket. The first histogram of survived females reflect females between the ages of 15 to 35 had the highest rate of survival. The second histogram represents survived females who purchased a first class ticket whose age ranged from 29 to 39. The third histogram shows survived females in the second class ranging between the age of 23 - 29 had the highest rate of survival. The last histogram of survived females who purchased third class tickets had the highest rate of survival between the ages of 15 - 20."
   ]
  },
  {
   "cell_type": "markdown",
   "metadata": {},
   "source": [
    "## Conclusion\n",
    "### This dataset representing a portion of passengers who travelled on the Titantic can be interpretted that females who purchased a first class ticket with an average age of 29 had the highest rate of survival. Males had the highest rate of survival if they purchased either a first class or third class ticket whose age averaged 27. There cannot be assumptions made within this dataset that more females and children survived if prior knowledge was not known about Titantic survivors. "
   ]
  }
 ],
 "metadata": {
  "kernelspec": {
   "display_name": "Python 2",
   "language": "python",
   "name": "python2"
  },
  "language_info": {
   "codemirror_mode": {
    "name": "ipython",
    "version": 2
   },
   "file_extension": ".py",
   "mimetype": "text/x-python",
   "name": "python",
   "nbconvert_exporter": "python",
   "pygments_lexer": "ipython2",
   "version": "2.7.11"
  }
 },
 "nbformat": 4,
 "nbformat_minor": 0
}
